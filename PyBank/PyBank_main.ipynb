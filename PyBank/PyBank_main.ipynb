{
 "cells": [
  {
   "cell_type": "code",
   "execution_count": 16,
   "metadata": {},
   "outputs": [
    {
     "name": "stdout",
     "output_type": "stream",
     "text": [
      "Financial Analysis\n",
      "----------------------------\n",
      "Total Months: 86\n",
      "Total: $38382578\n",
      "Average Change: $-2315.12\n",
      "Greatest Increase in Profits: Feb-2012 ($1926159)\n",
      "Greatest Decrease in Profits: Sep-2013 ($-2196167)\n",
      "\n"
     ]
    }
   ],
   "source": [
    "import os\n",
    "# Module for reading CSV files\n",
    "import csv\n",
    "\n",
    "csvpath = \"Resources/budget_data.csv\"\n",
    "\n",
    "# read budget_data file\n",
    "profit = 0\n",
    "previousPL = 0\n",
    "greatest_profit = 0\n",
    "greatest_loss = 0\n",
    "\n",
    "with open(csvpath, newline='') as budget_data:\n",
    "\n",
    "    # CSV reader specifies delimiter and variable that holds contents\n",
    "    csvreader = csv.reader(budget_data, delimiter=',')\n",
    "\n",
    "    # print(csvreader)\n",
    "    # Read the header row first (pops the header so only data remains)\n",
    "    csv_header = next(csvreader)\n",
    "    #print(f\"CSV Header: {csv_header}\")\n",
    "\n",
    "    # convert to list to make the remaining dataset re-usable instead of popping and losing them\n",
    "    budget_list = list(csvreader)\n",
    "\n",
    "\n",
    "\n",
    "for row in budget_list:\n",
    "    currentPL = int(row[1])\n",
    "    profit = profit + currentPL\n",
    "\n",
    "    if (currentPL - previousPL) > greatest_profit:\n",
    "        greatest_profit = (currentPL - previousPL)\n",
    "        greatest_profit_month = row[0]\n",
    "    elif (currentPL - previousPL) < greatest_loss:\n",
    "        greatest_loss = (currentPL - previousPL)\n",
    "        greatest_loss_month = row[0]\n",
    "    \n",
    "    previousPL = currentPL\n",
    "\n",
    "averageChange = round((int(budget_list[len(budget_list)-1][1]) - int(budget_list[0][1])) / (len(budget_list)-1), 2)\n",
    "\n",
    "\n",
    "with open(\"PyBankOutput.txt\", \"w\") as text_file:\n",
    "    print(\"Financial Analysis\", file=text_file)\n",
    "    print(\"----------------------------\", file=text_file)\n",
    "    print(\"Total Months: \" + str(len(budget_list)), file=text_file)\n",
    "    print(\"Total: $\" + str(profit), file=text_file)\n",
    "    print(\"Average Change: $\" + str(averageChange), file=text_file)\n",
    "    print(\"Greatest Increase in Profits: {} (${})\".format(greatest_profit_month, str(greatest_profit)), file=text_file)\n",
    "    print(\"Greatest Decrease in Profits: {} (${})\".format(greatest_loss_month, str(greatest_loss)), file=text_file)\n",
    "    \n",
    "print(open('PyBankOutput.txt').read())"
   ]
  },
  {
   "cell_type": "code",
   "execution_count": null,
   "metadata": {},
   "outputs": [],
   "source": []
  }
 ],
 "metadata": {
  "kernelspec": {
   "display_name": "Python 3",
   "language": "python",
   "name": "python3"
  },
  "language_info": {
   "codemirror_mode": {
    "name": "ipython",
    "version": 3
   },
   "file_extension": ".py",
   "mimetype": "text/x-python",
   "name": "python",
   "nbconvert_exporter": "python",
   "pygments_lexer": "ipython3",
   "version": "3.7.4"
  }
 },
 "nbformat": 4,
 "nbformat_minor": 4
}
