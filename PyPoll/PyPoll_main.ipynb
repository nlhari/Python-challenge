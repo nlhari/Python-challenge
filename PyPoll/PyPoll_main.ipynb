{
 "cells": [
  {
   "cell_type": "raw",
   "metadata": {},
   "source": []
  },
  {
   "cell_type": "code",
   "execution_count": 31,
   "metadata": {},
   "outputs": [
    {
     "name": "stdout",
     "output_type": "stream",
     "text": [
      "Election Results\n",
      "-------------------------\n",
      "Total Votes: 3521001\n",
      "-------------------------\n",
      "Khan: 63.000% (2218231)\n",
      "Correy: 20.000% (704200)\n",
      "Li: 14.000% (492940)\n",
      "O'Tooley: 3.000% (105630)\n",
      "-------------------------\n",
      "Winner: Khan\n",
      "-------------------------\n",
      "\n"
     ]
    }
   ],
   "source": [
    "import os\n",
    "# Module for reading CSV files\n",
    "import csv\n",
    "\n",
    "csvpath = \"Resources/election_data.csv\"\n",
    "\n",
    "candidate_list = []\n",
    "vote_count = []\n",
    "total_votes = 0\n",
    "\n",
    "with open(csvpath, newline='') as election_data:\n",
    "\n",
    "    # CSV reader specifies delimiter and variable that holds contents\n",
    "    csvreader = csv.reader(election_data, delimiter=',')\n",
    "\n",
    "    # Read the header row first (pops the header so only data remains)\n",
    "    csv_header = next(csvreader)\n",
    "    \n",
    "    # Read through each row\n",
    "    for row in csvreader:\n",
    "        # add up the total votes\n",
    "        total_votes += 1\n",
    "        \n",
    "        # read candidate name\n",
    "        candidate = row[2]\n",
    "        \n",
    "        # build the candidate list and their vote count\n",
    "        if candidate in candidate_list:\n",
    "            candidate_index = candidate_list.index(candidate)\n",
    "            vote_count[candidate_index] += 1\n",
    "        else:\n",
    "            # add candidate to list. Append 1 vote count as well - the index of both candidate_list and vote_count will match\n",
    "            candidate_list.append(candidate)\n",
    "            vote_count.append(1)\n",
    "\n",
    "# create a list for vote percentage of each candidate\n",
    "percent_vote = []\n",
    "\n",
    "for index in range(len(candidate_list)):\n",
    "    vote_percent = vote_count[index] / total_votes * 100\n",
    "    percent_vote.append(vote_percent)\n",
    "    \n",
    "# winner can be determined by finding the index that has the max vote count\n",
    "winner_index = vote_count.index(max(vote_count))\n",
    "\n",
    "with open(\"PyPollOutput.txt\", \"w\") as text_file:\n",
    "    print(\"Election Results\", file=text_file)\n",
    "    print(\"-------------------------\", file=text_file)\n",
    "    print(\"Total Votes: \" + str(total_votes), file=text_file)\n",
    "    print(\"-------------------------\", file=text_file)\n",
    "    for x in range(len(candidate_list)):\n",
    "        print(\"{}: {:.3f}% ({})\".format(candidate_list[x], percent_vote[x], vote_count[x]), file=text_file)\n",
    "    print(\"-------------------------\", file=text_file)\n",
    "    print(\"Winner: {}\".format(candidate_list[winner_index]), file=text_file)\n",
    "    print(\"-------------------------\", file=text_file)\n",
    "\n",
    "# print the contents of output file to std out. Syntax below will also close file after read.\n",
    "with open(\"PyPollOutput.txt\", \"r\") as f: print(f.read())"
   ]
  },
  {
   "cell_type": "code",
   "execution_count": null,
   "metadata": {},
   "outputs": [],
   "source": []
  },
  {
   "cell_type": "code",
   "execution_count": null,
   "metadata": {},
   "outputs": [],
   "source": []
  }
 ],
 "metadata": {
  "kernelspec": {
   "display_name": "Python 3",
   "language": "python",
   "name": "python3"
  },
  "language_info": {
   "codemirror_mode": {
    "name": "ipython",
    "version": 3
   },
   "file_extension": ".py",
   "mimetype": "text/x-python",
   "name": "python",
   "nbconvert_exporter": "python",
   "pygments_lexer": "ipython3",
   "version": "3.7.4"
  }
 },
 "nbformat": 4,
 "nbformat_minor": 4
}
