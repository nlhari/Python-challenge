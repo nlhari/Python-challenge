{
 "cells": [
  {
   "cell_type": "code",
   "execution_count": 6,
   "metadata": {},
   "outputs": [
    {
     "name": "stdout",
     "output_type": "stream",
     "text": [
      "CSV Header: OrderedDict([('Voter ID', '12864552'), ('County', 'Marsh'), ('Candidate', 'Khan')])\n"
     ]
    }
   ],
   "source": [
    "import os\n",
    "# Module for reading CSV files\n",
    "import csv\n",
    "\n",
    "csvpath = \"Resources/election_data_Copy.csv\"\n",
    "\n",
    "\n",
    "with open(csvpath, newline='') as election_data:\n",
    "\n",
    "    # CSV reader specifies delimiter and variable that holds contents\n",
    "    #csvreader = csv.reader(election_data, delimiter=',')\n",
    "    csvreader = csv.DictReader(election_data)\n",
    "\n",
    "    # Read the header row first (pops the header so only data remains)\n",
    "    csv_header = next(csvreader)\n",
    "    print(f\"CSV Header: {csv_header}\")\n",
    "    # convert to list to make the remaining dataset re-usable instead of popping and losing them\n",
    "    #election_list = list(csvreader)\n",
    "\n",
    "#candidates = set(election_list)"
   ]
  },
  {
   "cell_type": "code",
   "execution_count": null,
   "metadata": {},
   "outputs": [],
   "source": []
  },
  {
   "cell_type": "code",
   "execution_count": null,
   "metadata": {},
   "outputs": [],
   "source": []
  }
 ],
 "metadata": {
  "kernelspec": {
   "display_name": "Python 3",
   "language": "python",
   "name": "python3"
  },
  "language_info": {
   "codemirror_mode": {
    "name": "ipython",
    "version": 3
   },
   "file_extension": ".py",
   "mimetype": "text/x-python",
   "name": "python",
   "nbconvert_exporter": "python",
   "pygments_lexer": "ipython3",
   "version": "3.7.4"
  }
 },
 "nbformat": 4,
 "nbformat_minor": 4
}
